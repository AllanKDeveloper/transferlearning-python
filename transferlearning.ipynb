{
  "nbformat": 4,
  "nbformat_minor": 0,
  "metadata": {
    "colab": {
      "provenance": [],
      "authorship_tag": "ABX9TyNNl5WRqKM2h6uEvCLYpEkm",
      "include_colab_link": true
    },
    "kernelspec": {
      "name": "python3",
      "display_name": "Python 3"
    },
    "language_info": {
      "name": "python"
    }
  },
  "cells": [
    {
      "cell_type": "markdown",
      "metadata": {
        "id": "view-in-github",
        "colab_type": "text"
      },
      "source": [
        "<a href=\"https://colab.research.google.com/github/AllanKDeveloper/transferlearning-python/blob/main/transferlearning.ipynb\" target=\"_parent\"><img src=\"https://colab.research.google.com/assets/colab-badge.svg\" alt=\"Open In Colab\"/></a>"
      ]
    },
    {
      "cell_type": "code",
      "execution_count": 14,
      "metadata": {
        "id": "bVPP-8MpKsuo"
      },
      "outputs": [],
      "source": [
        "import tensorflow as tf\n",
        "from tensorflow.keras.preprocessing.image import ImageDataGenerator\n",
        "from tensorflow.keras.applications import EfficientNetB0\n",
        "from tensorflow.keras import layers, models\n",
        "from tensorflow.keras.callbacks import EarlyStopping\n",
        "from sklearn.model_selection import train_test_split\n",
        "import pandas as pd\n",
        "import numpy as np\n",
        "import matplotlib.pyplot as plt\n",
        "import requests\n",
        "import zipfile\n",
        "import io\n",
        "import gdown\n",
        "import os\n",
        "\n",
        "# URLs for dataset\n",
        "BASE_DIR = '/content/deepweeds'\n",
        "IMAGES_URL = \"https://drive.google.com/uc?export=download&id=1xnK3B6K6KekDI55vwJ0vnc2IGoDga9cj\"\n",
        "LABELS_URL = \"https://raw.githubusercontent.com/AlexOlsen/DeepWeeds/master/labels/labels.csv\"\n",
        "\n",
        "# Configuration\n",
        "INPUT_SIZE = (224, 224)\n",
        "BATCH_SIZE = 32\n",
        "EPOCHS = 5\n",
        "NUM_CLASSES = 9  # 8 weed species + 1 negative class\n",
        "\n",
        "# Create base directory in Colab\n",
        "os.makedirs(BASE_DIR, exist_ok=True)"
      ]
    },
    {
      "cell_type": "code",
      "source": [
        "# Baixar imagens do Google Drive\n",
        "!gdown 1xnK3B6K6KekDI55vwJ0vnc2IGoDga9cj --output {BASE_DIR}/images.zip\n",
        "\n",
        "# Verificar se o arquivo ZIP é válido\n",
        "zip_file = os.path.join(BASE_DIR, 'images.zip')\n",
        "try:\n",
        "    with zipfile.ZipFile(zip_file, 'r') as zip_ref:\n",
        "        zip_ref.testzip()  # Testa se o arquivo ZIP está corrompido\n",
        "    print(\"O arquivo ZIP é válido, extraindo imagens...\")\n",
        "    # Extrair as imagens\n",
        "    with zipfile.ZipFile(zip_file, 'r') as zip_ref:\n",
        "        zip_ref.extractall(BASE_DIR)\n",
        "except zipfile.BadZipFile:\n",
        "    print(f\"O arquivo {zip_file} não é um ZIP válido ou está corrompido.\")\n",
        "    # Se o arquivo ZIP não for válido, baixe-o novamente ou busque outra fonte para o dataset\n",
        "    raise\n",
        "\n",
        "# Baixar os rótulos\n",
        "print(\"Downloading labels...\")\n",
        "labels_df = pd.read_csv(LABELS_URL)\n",
        "\n",
        "# Exibir as primeiras linhas do DataFrame para verificar as colunas\n",
        "print(labels_df.head())\n",
        "\n",
        "# Verificar se as colunas esperadas existem\n",
        "if 'Filename' not in labels_df.columns or 'Label' not in labels_df.columns:\n",
        "    raise KeyError(\"As colunas 'Filename' ou 'Label' não foram encontradas no DataFrame!\")\n",
        "\n",
        "# Adicionar caminho completo das imagens\n",
        "labels_df['image_path'] = BASE_DIR + '/' + labels_df['Filename']\n",
        "\n",
        "# Converter os rótulos para string, pois o class_mode='categorical' espera valores em string\n",
        "labels_df['Label'] = labels_df['Label'].astype(str)\n",
        "\n",
        "# Garantir que cada valor da coluna 'Label' seja uma lista de uma string (para compatibilidade com o flow_from_dataframe)\n",
        "labels_df['Label'] = labels_df['Label'].apply(lambda x: [x])"
      ],
      "metadata": {
        "colab": {
          "base_uri": "https://localhost:8080/"
        },
        "id": "MNS_1VU7K7OQ",
        "outputId": "fba7278e-9f1c-4376-f3ec-59ce6de90992"
      },
      "execution_count": 15,
      "outputs": [
        {
          "output_type": "stream",
          "name": "stdout",
          "text": [
            "Downloading...\n",
            "From (original): https://drive.google.com/uc?id=1xnK3B6K6KekDI55vwJ0vnc2IGoDga9cj\n",
            "From (redirected): https://drive.google.com/uc?id=1xnK3B6K6KekDI55vwJ0vnc2IGoDga9cj&confirm=t&uuid=4c1f7df5-0d25-4ff5-a967-6fdc43aaa92a\n",
            "To: /content/deepweeds/images.zip\n",
            "100% 492M/492M [00:03<00:00, 133MB/s] \n",
            "O arquivo ZIP é válido, extraindo imagens...\n",
            "Downloading labels...\n",
            "                Filename  Label       Species\n",
            "0  20160928-140314-0.jpg      0  Chinee apple\n",
            "1  20160928-140337-0.jpg      0  Chinee apple\n",
            "2  20160928-140731-0.jpg      0  Chinee apple\n",
            "3  20160928-140747-0.jpg      0  Chinee apple\n",
            "4  20160928-141107-0.jpg      0  Chinee apple\n"
          ]
        }
      ]
    },
    {
      "cell_type": "code",
      "source": [
        "# Dividir em treino e validação\n",
        "train_df, val_df = train_test_split(labels_df, test_size=0.2, stratify=labels_df['Label'], random_state=42)\n",
        "\n",
        "# Geradores de dados para treino e validação\n",
        "train_datagen = ImageDataGenerator(\n",
        "    rescale=1./255,  # Normaliza as imagens\n",
        "    horizontal_flip=True,\n",
        "    rotation_range=20,\n",
        "    zoom_range=0.2\n",
        ")\n",
        "val_datagen = ImageDataGenerator(rescale=1./255)  # Normaliza as imagens de validação\n",
        "val_datagen = ImageDataGenerator(rescale=1./255)\n",
        "\n",
        "train_generator = train_datagen.flow_from_dataframe(\n",
        "    train_df,\n",
        "    x_col='image_path',\n",
        "    y_col='Label',\n",
        "    target_size=INPUT_SIZE,\n",
        "    batch_size=BATCH_SIZE,\n",
        "    class_mode='categorical',\n",
        "    seed=42\n",
        ")\n",
        "\n",
        "val_generator = val_datagen.flow_from_dataframe(\n",
        "    val_df,\n",
        "    x_col='image_path',\n",
        "    y_col='Label',\n",
        "    target_size=INPUT_SIZE,\n",
        "    batch_size=BATCH_SIZE,\n",
        "    class_mode='categorical'\n",
        ")"
      ],
      "metadata": {
        "colab": {
          "base_uri": "https://localhost:8080/"
        },
        "id": "1O6rIwVOUiVl",
        "outputId": "0e4f2019-fd62-4612-b546-df86f154a9ba"
      },
      "execution_count": 16,
      "outputs": [
        {
          "output_type": "stream",
          "name": "stdout",
          "text": [
            "Found 14007 validated image filenames belonging to 9 classes.\n",
            "Found 3502 validated image filenames belonging to 9 classes.\n"
          ]
        }
      ]
    },
    {
      "cell_type": "code",
      "source": [
        "# Construção do modelo com Transfer Learning\n",
        "base_model = EfficientNetB0(weights='imagenet', include_top=False, input_shape=(224, 224, 3))\n",
        "base_model.trainable = False  # Congela os pesos do modelo base\n",
        "\n",
        "model = models.Sequential([\n",
        "    base_model,\n",
        "    layers.GlobalAveragePooling2D(),\n",
        "    layers.Dense(256, activation='relu'),\n",
        "    layers.Dropout(0.5),\n",
        "    layers.Dense(NUM_CLASSES, activation='softmax')\n",
        "])\n",
        "\n",
        "# Compilação do modelo\n",
        "model.compile(optimizer='adam', loss='categorical_crossentropy', metrics=['accuracy'])\n"
      ],
      "metadata": {
        "id": "i3JlGcZyUk4k"
      },
      "execution_count": 17,
      "outputs": []
    },
    {
      "cell_type": "code",
      "source": [
        "early_stopping = EarlyStopping(monitor='val_loss', patience=2, restore_best_weights=True)\n",
        "\n",
        "# Treinamento do modelo\n",
        "history = model.fit(\n",
        "    train_generator,\n",
        "    epochs=EPOCHS,\n",
        "    validation_data=val_generator,\n",
        "    callbacks=[early_stopping]\n",
        ")"
      ],
      "metadata": {
        "colab": {
          "base_uri": "https://localhost:8080/"
        },
        "id": "KVq4_J_PUoFG",
        "outputId": "0ff992ed-77f1-407a-fe41-e835e1328f25"
      },
      "execution_count": 18,
      "outputs": [
        {
          "metadata": {
            "tags": null
          },
          "name": "stdout",
          "output_type": "stream",
          "text": [
            "Epoch 1/5\n"
          ]
        },
        {
          "metadata": {
            "tags": null
          },
          "name": "stderr",
          "output_type": "stream",
          "text": [
            "/usr/local/lib/python3.10/dist-packages/keras/src/trainers/data_adapters/py_dataset_adapter.py:122: UserWarning: Your `PyDataset` class should call `super().__init__(**kwargs)` in its constructor. `**kwargs` can include `workers`, `use_multiprocessing`, `max_queue_size`. Do not pass these arguments to `fit()`, as they will be ignored.\n",
            "  self._warn_if_super_not_called()\n"
          ]
        },
        {
          "output_type": "stream",
          "name": "stdout",
          "text": [
            "\u001b[1m438/438\u001b[0m \u001b[32m━━━━━━━━━━━━━━━━━━━━\u001b[0m\u001b[37m\u001b[0m \u001b[1m1470s\u001b[0m 3s/step - accuracy: 0.5158 - loss: 1.7393 - val_accuracy: 0.5200 - val_loss: 1.6928\n",
            "Epoch 2/5\n",
            "\u001b[1m438/438\u001b[0m \u001b[32m━━━━━━━━━━━━━━━━━━━━\u001b[0m\u001b[37m\u001b[0m \u001b[1m1453s\u001b[0m 3s/step - accuracy: 0.5176 - loss: 1.7196 - val_accuracy: 0.5200 - val_loss: 1.6999\n",
            "Epoch 3/5\n",
            "\u001b[1m438/438\u001b[0m \u001b[32m━━━━━━━━━━━━━━━━━━━━\u001b[0m\u001b[37m\u001b[0m \u001b[1m1427s\u001b[0m 3s/step - accuracy: 0.5279 - loss: 1.6989 - val_accuracy: 0.5200 - val_loss: 1.6918\n",
            "Epoch 4/5\n",
            "\u001b[1m438/438\u001b[0m \u001b[32m━━━━━━━━━━━━━━━━━━━━\u001b[0m\u001b[37m\u001b[0m \u001b[1m1409s\u001b[0m 3s/step - accuracy: 0.5201 - loss: 1.7133 - val_accuracy: 0.5200 - val_loss: 1.6916\n",
            "Epoch 5/5\n",
            "\u001b[1m438/438\u001b[0m \u001b[32m━━━━━━━━━━━━━━━━━━━━\u001b[0m\u001b[37m\u001b[0m \u001b[1m1468s\u001b[0m 3s/step - accuracy: 0.5223 - loss: 1.7051 - val_accuracy: 0.5200 - val_loss: 1.6916\n"
          ]
        }
      ]
    },
    {
      "cell_type": "code",
      "source": [
        "# Avaliação e visualização dos resultados\n",
        "plt.figure(figsize=(12, 4))\n",
        "plt.subplot(1, 2, 1)\n",
        "plt.plot(history.history['accuracy'], label='Treino')\n",
        "plt.plot(history.history['val_accuracy'], label='Validação')\n",
        "plt.title('Acurácia')\n",
        "plt.legend()\n",
        "\n",
        "plt.subplot(1, 2, 2)\n",
        "plt.plot(history.history['loss'], label='Treino')\n",
        "plt.plot(history.history['val_loss'], label='Validação')\n",
        "plt.title('Perda')\n",
        "plt.legend()\n",
        "\n",
        "plt.show()"
      ],
      "metadata": {
        "id": "B2o6URGaUq1F",
        "colab": {
          "base_uri": "https://localhost:8080/",
          "height": 411
        },
        "outputId": "130808c0-a4c7-4f80-c362-6b837fc9e76b"
      },
      "execution_count": 19,
      "outputs": [
        {
          "output_type": "display_data",
          "data": {
            "text/plain": [
              "<Figure size 1200x400 with 2 Axes>"
            ],
            "image/png": "[encoded data removed]"
          },
          "metadata": {}
        }
      ]
    }
  ]
}